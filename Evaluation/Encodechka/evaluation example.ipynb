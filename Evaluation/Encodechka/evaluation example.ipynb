{
 "cells": [
  {
   "cell_type": "code",
   "execution_count": 5,
   "id": "e67cbe9a",
   "metadata": {},
   "outputs": [],
   "source": [
    "from encodechka_eval import tasks\n",
    "from encodechka_eval.bert_embedders import embed_bert_both, get_word_vectors_with_bert"
   ]
  },
  {
   "cell_type": "code",
   "execution_count": 24,
   "id": "24e5e3d9",
   "metadata": {},
   "outputs": [
    {
     "data": {
      "text/plain": [
       "<module 'encodechka_eval.tasks' from 'C:\\\\Users\\\\david\\\\YandexDisk\\\\code\\\\NLP\\\\encodechka\\\\encodechka_eval\\\\tasks.py'>"
      ]
     },
     "execution_count": 24,
     "metadata": {},
     "output_type": "execute_result"
    }
   ],
   "source": [
    "from importlib import reload\n",
    "reload(tasks)"
   ]
  },
  {
   "cell_type": "code",
   "execution_count": 5,
   "id": "d7d327d6",
   "metadata": {},
   "outputs": [],
   "source": [
    "from transformers import AutoModel, AutoTokenizer"
   ]
  },
  {
   "cell_type": "code",
   "execution_count": 6,
   "id": "78d5ffd4",
   "metadata": {},
   "outputs": [
    {
     "name": "stderr",
     "output_type": "stream",
     "text": [
      "Some weights of the model checkpoint at cointegrated/rubert-tiny were not used when initializing BertModel: ['cls.seq_relationship.weight', 'cls.predictions.bias', 'cls.predictions.decoder.bias', 'cls.predictions.transform.LayerNorm.weight', 'cls.predictions.decoder.weight', 'cls.seq_relationship.bias', 'cls.predictions.transform.dense.weight', 'cls.predictions.transform.dense.bias', 'cls.predictions.transform.LayerNorm.bias']\n",
      "- This IS expected if you are initializing BertModel from the checkpoint of a model trained on another task or with another architecture (e.g. initializing a BertForSequenceClassification model from a BertForPreTraining model).\n",
      "- This IS NOT expected if you are initializing BertModel from the checkpoint of a model that you expect to be exactly identical (initializing a BertForSequenceClassification model from a BertForSequenceClassification model).\n"
     ]
    }
   ],
   "source": [
    "m = 'cointegrated/rubert-tiny'\n",
    "tokenizer = AutoTokenizer.from_pretrained(m)\n",
    "model = AutoModel.from_pretrained(m)\n",
    "model.cuda();"
   ]
  },
  {
   "cell_type": "code",
   "execution_count": 7,
   "id": "99873d77",
   "metadata": {},
   "outputs": [],
   "source": [
    "import os\n",
    "DATA_PATH_NAME = 'ENCODECHKA_DATA_PATH'\n",
    "os.environ[DATA_PATH_NAME] = 'encodechka_eval'"
   ]
  },
  {
   "cell_type": "code",
   "execution_count": 8,
   "id": "62f9b88a",
   "metadata": {},
   "outputs": [
    {
     "data": {
      "application/vnd.jupyter.widget-view+json": {
       "model_id": "4fed8ca4be324ab09f40eafd481ac998",
       "version_major": 2,
       "version_minor": 0
      },
      "text/plain": [
       "  0%|          | 0/1500 [00:00<?, ?it/s]"
      ]
     },
     "metadata": {},
     "output_type": "display_data"
    },
    {
     "data": {
      "application/vnd.jupyter.widget-view+json": {
       "model_id": "5a63b0999ab044b2b02f2a01d8653c43",
       "version_major": 2,
       "version_minor": 0
      },
      "text/plain": [
       "  0%|          | 0/1500 [00:00<?, ?it/s]"
      ]
     },
     "metadata": {},
     "output_type": "display_data"
    },
    {
     "data": {
      "text/plain": [
       "(0.6520702408280105, {'cls': 0.5925344784814074, 'mean': 0.6520702408280105})"
      ]
     },
     "execution_count": 8,
     "metadata": {},
     "output_type": "execute_result"
    }
   ],
   "source": [
    "stsb_task = tasks.STSBTask()\n",
    "stsb_task.eval(lambda x: embed_bert_both(x, model, tokenizer), m)"
   ]
  },
  {
   "cell_type": "code",
   "execution_count": 9,
   "id": "199b2bdc",
   "metadata": {},
   "outputs": [
    {
     "data": {
      "application/vnd.jupyter.widget-view+json": {
       "model_id": "bbe36b6989f641e286f9804762ce21fd",
       "version_major": 2,
       "version_minor": 0
      },
      "text/plain": [
       "  0%|          | 0/1924 [00:00<?, ?it/s]"
      ]
     },
     "metadata": {},
     "output_type": "display_data"
    },
    {
     "data": {
      "application/vnd.jupyter.widget-view+json": {
       "model_id": "6accb9fb1fcd47ceb094d6bb6df7f5c2",
       "version_major": 2,
       "version_minor": 0
      },
      "text/plain": [
       "  0%|          | 0/1924 [00:00<?, ?it/s]"
      ]
     },
     "metadata": {},
     "output_type": "display_data"
    },
    {
     "data": {
      "text/plain": [
       "(0.5094636380787146, {'cls': 0.4591471349651604, 'mean': 0.5094636380787146})"
      ]
     },
     "execution_count": 9,
     "metadata": {},
     "output_type": "execute_result"
    }
   ],
   "source": [
    "para_task = tasks.ParaphraserTask()\n",
    "para_task.eval(lambda x: embed_bert_both(x, model, tokenizer), m)"
   ]
  },
  {
   "cell_type": "code",
   "execution_count": 10,
   "id": "1a81480b",
   "metadata": {},
   "outputs": [
    {
     "data": {
      "application/vnd.jupyter.widget-view+json": {
       "model_id": "88ad19c1c1dc46d989aba95e2b891d2a",
       "version_major": 2,
       "version_minor": 0
      },
      "text/plain": [
       "  0%|          | 0/5010 [00:00<?, ?it/s]"
      ]
     },
     "metadata": {},
     "output_type": "display_data"
    },
    {
     "data": {
      "application/vnd.jupyter.widget-view+json": {
       "model_id": "dfe5ce99219146fcad72d7188cf2931d",
       "version_major": 2,
       "version_minor": 0
      },
      "text/plain": [
       "  0%|          | 0/5010 [00:00<?, ?it/s]"
      ]
     },
     "metadata": {},
     "output_type": "display_data"
    },
    {
     "data": {
      "text/plain": [
       "(0.3978043912175649, {'cls': 0.3978043912175649, 'mean': 0.3568862275449102})"
      ]
     },
     "execution_count": 10,
     "metadata": {},
     "output_type": "execute_result"
    }
   ],
   "source": [
    "xnli_task = tasks.XnliTask()\n",
    "xnli_task.eval(lambda x: embed_bert_both(x, model, tokenizer), m)"
   ]
  },
  {
   "cell_type": "code",
   "execution_count": 11,
   "id": "a3756015",
   "metadata": {},
   "outputs": [
    {
     "data": {
      "application/vnd.jupyter.widget-view+json": {
       "model_id": "b0aaee38aaec46b58005c0f11422adad",
       "version_major": 2,
       "version_minor": 0
      },
      "text/plain": [
       "  0%|          | 0/3000 [00:00<?, ?it/s]"
      ]
     },
     "metadata": {},
     "output_type": "display_data"
    },
    {
     "data": {
      "application/vnd.jupyter.widget-view+json": {
       "model_id": "96f42ecb12444bb8b329f5f4f735a889",
       "version_major": 2,
       "version_minor": 0
      },
      "text/plain": [
       "  0%|          | 0/3000 [00:00<?, ?it/s]"
      ]
     },
     "metadata": {},
     "output_type": "display_data"
    },
    {
     "data": {
      "text/plain": [
       "(0.6846666666666666,\n",
       " {'cls__lr': 0.6846666666666666,\n",
       "  'cls__knn': 0.6796666666666666,\n",
       "  'mean__lr': 0.6313333333333333,\n",
       "  'mean__knn': 0.651})"
      ]
     },
     "execution_count": 11,
     "metadata": {},
     "output_type": "execute_result"
    }
   ],
   "source": [
    "senti_task = tasks.SentimentTask()\n",
    "senti_task.eval(lambda x: embed_bert_both(x, model, tokenizer), m)"
   ]
  },
  {
   "cell_type": "code",
   "execution_count": 12,
   "id": "e1d5dd24",
   "metadata": {},
   "outputs": [
    {
     "data": {
      "application/vnd.jupyter.widget-view+json": {
       "model_id": "49613843a94848fdbf930012c4794acf",
       "version_major": 2,
       "version_minor": 0
      },
      "text/plain": [
       "  0%|          | 0/2000 [00:00<?, ?it/s]"
      ]
     },
     "metadata": {},
     "output_type": "display_data"
    },
    {
     "data": {
      "application/vnd.jupyter.widget-view+json": {
       "model_id": "b632f04ca32942cf94693d065de90c90",
       "version_major": 2,
       "version_minor": 0
      },
      "text/plain": [
       "  0%|          | 0/2000 [00:00<?, ?it/s]"
      ]
     },
     "metadata": {},
     "output_type": "display_data"
    },
    {
     "data": {
      "text/plain": [
       "(0.861071, {'cls': 0.861071, 'mean': 0.8458939999999999})"
      ]
     },
     "execution_count": 12,
     "metadata": {},
     "output_type": "execute_result"
    }
   ],
   "source": [
    "tox_task = tasks.ToxicityTask()\n",
    "tox_task.eval(lambda x: embed_bert_both(x, model, tokenizer), m)"
   ]
  },
  {
   "cell_type": "code",
   "execution_count": 13,
   "id": "ad0f9609",
   "metadata": {},
   "outputs": [
    {
     "data": {
      "application/vnd.jupyter.widget-view+json": {
       "model_id": "d86112cf39684e4e98759a7a5b8db87d",
       "version_major": 2,
       "version_minor": 0
      },
      "text/plain": [
       "  0%|          | 0/3000 [00:00<?, ?it/s]"
      ]
     },
     "metadata": {},
     "output_type": "display_data"
    },
    {
     "data": {
      "application/vnd.jupyter.widget-view+json": {
       "model_id": "f0d4d6a034b04429adb841a633915f4b",
       "version_major": 2,
       "version_minor": 0
      },
      "text/plain": [
       "  0%|          | 0/3000 [00:00<?, ?it/s]"
      ]
     },
     "metadata": {},
     "output_type": "display_data"
    },
    {
     "data": {
      "text/plain": [
       "(0.6834197774109377, {'cls': 0.6834197774109377, 'mean': 0.6634235049789659})"
      ]
     },
     "execution_count": 13,
     "metadata": {},
     "output_type": "execute_result"
    }
   ],
   "source": [
    "inap_task = tasks.InappropriatenessTask()\n",
    "inap_task.eval(lambda x: embed_bert_both(x, model, tokenizer), m)"
   ]
  },
  {
   "cell_type": "code",
   "execution_count": 14,
   "id": "244f2c82",
   "metadata": {},
   "outputs": [
    {
     "data": {
      "application/vnd.jupyter.widget-view+json": {
       "model_id": "385e507b4a43427fae2518c7aea8704e",
       "version_major": 2,
       "version_minor": 0
      },
      "text/plain": [
       "  0%|          | 0/5000 [00:00<?, ?it/s]"
      ]
     },
     "metadata": {},
     "output_type": "display_data"
    },
    {
     "data": {
      "application/vnd.jupyter.widget-view+json": {
       "model_id": "bb46c89f273f4758b83186c44cc51212",
       "version_major": 2,
       "version_minor": 0
      },
      "text/plain": [
       "  0%|          | 0/5000 [00:00<?, ?it/s]"
      ]
     },
     "metadata": {},
     "output_type": "display_data"
    },
    {
     "data": {
      "text/plain": [
       "(0.5852,\n",
       " {'cls__lr': 0.5794,\n",
       "  'cls__knn': 0.5764,\n",
       "  'mean__lr': 0.4638,\n",
       "  'mean__knn': 0.5852})"
      ]
     },
     "execution_count": 14,
     "metadata": {},
     "output_type": "execute_result"
    }
   ],
   "source": [
    "intents_task = tasks.IntentsTask()\n",
    "intents_task.eval(lambda x: embed_bert_both(x, model, tokenizer), m)"
   ]
  },
  {
   "cell_type": "code",
   "execution_count": 15,
   "id": "106c4e3f",
   "metadata": {},
   "outputs": [
    {
     "data": {
      "application/vnd.jupyter.widget-view+json": {
       "model_id": "94acd57b67ce49458f190c0e351c6a2f",
       "version_major": 2,
       "version_minor": 0
      },
      "text/plain": [
       "  0%|          | 0/5000 [00:00<?, ?it/s]"
      ]
     },
     "metadata": {},
     "output_type": "display_data"
    },
    {
     "data": {
      "application/vnd.jupyter.widget-view+json": {
       "model_id": "8a708313dcc8418ab18cc841f8d7e325",
       "version_major": 2,
       "version_minor": 0
      },
      "text/plain": [
       "  0%|          | 0/5000 [00:00<?, ?it/s]"
      ]
     },
     "metadata": {},
     "output_type": "display_data"
    },
    {
     "data": {
      "text/plain": [
       "(0.5392,\n",
       " {'cls__lr': 0.5392,\n",
       "  'cls__knn': 0.5272,\n",
       "  'mean__lr': 0.3134,\n",
       "  'mean__knn': 0.3232})"
      ]
     },
     "execution_count": 15,
     "metadata": {},
     "output_type": "execute_result"
    }
   ],
   "source": [
    "intentsx_task = tasks.IntentsXTask()\n",
    "intentsx_task.eval(lambda x: embed_bert_both(x, model, tokenizer), m)"
   ]
  },
  {
   "cell_type": "code",
   "execution_count": 16,
   "id": "529ca496",
   "metadata": {},
   "outputs": [
    {
     "data": {
      "application/vnd.jupyter.widget-view+json": {
       "model_id": "84cf0093efda4d17aa70aacd4637213e",
       "version_major": 2,
       "version_minor": 0
      },
      "text/plain": [
       "  0%|          | 0/127 [00:00<?, ?it/s]"
      ]
     },
     "metadata": {},
     "output_type": "display_data"
    },
    {
     "data": {
      "application/vnd.jupyter.widget-view+json": {
       "model_id": "72cd9df4477446dabbd591f9659ce29e",
       "version_major": 2,
       "version_minor": 0
      },
      "text/plain": [
       "  0%|          | 0/127 [00:00<?, ?it/s]"
      ]
     },
     "metadata": {},
     "output_type": "display_data"
    },
    {
     "data": {
      "text/plain": [
       "(0.22971772715983296, {'macro_f1': 0.22971772715983296})"
      ]
     },
     "execution_count": 16,
     "metadata": {},
     "output_type": "execute_result"
    }
   ],
   "source": [
    "factru_task = tasks.FactRuTask()\n",
    "factru_task.eval(lambda words: get_word_vectors_with_bert(words, model=model, tokenizer=tokenizer), m)"
   ]
  },
  {
   "cell_type": "code",
   "execution_count": 20,
   "id": "36d5993a",
   "metadata": {},
   "outputs": [
    {
     "data": {
      "application/vnd.jupyter.widget-view+json": {
       "model_id": "6b887051a69d416e9d2f31436e5dfdc7",
       "version_major": 2,
       "version_minor": 0
      },
      "text/plain": [
       "  0%|          | 0/2404 [00:00<?, ?it/s]"
      ]
     },
     "metadata": {},
     "output_type": "display_data"
    },
    {
     "data": {
      "application/vnd.jupyter.widget-view+json": {
       "model_id": "5771b969116542b0a7fa0aa812af8999",
       "version_major": 2,
       "version_minor": 0
      },
      "text/plain": [
       "  0%|          | 0/2405 [00:00<?, ?it/s]"
      ]
     },
     "metadata": {},
     "output_type": "display_data"
    },
    {
     "data": {
      "text/plain": [
       "(0.3445168805078735, {'macro_f1': 0.3445168805078735})"
      ]
     },
     "execution_count": 20,
     "metadata": {},
     "output_type": "execute_result"
    }
   ],
   "source": [
    "rudr_task = tasks.RudrTask()\n",
    "rudr_task.eval(lambda words: get_word_vectors_with_bert(words, model=model, tokenizer=tokenizer), m)"
   ]
  },
  {
   "cell_type": "code",
   "execution_count": 25,
   "id": "df527b39",
   "metadata": {},
   "outputs": [
    {
     "data": {
      "text/plain": [
       "(3.62346092859904, {'ms_per_text': 3.62346092859904})"
      ]
     },
     "execution_count": 25,
     "metadata": {},
     "output_type": "execute_result"
    }
   ],
   "source": [
    "speed_task_gpu = tasks.SpeedTask()\n",
    "model.cuda()\n",
    "speed_task_gpu.eval(lambda x: embed_bert_both(x, model, tokenizer), m)"
   ]
  },
  {
   "cell_type": "code",
   "execution_count": 26,
   "id": "b412deb4",
   "metadata": {},
   "outputs": [
    {
     "name": "stdout",
     "output_type": "stream",
     "text": [
      "(4.311718146006266, {'ms_per_text': 4.311718146006266})\n"
     ]
    }
   ],
   "source": [
    "speed_task_cpu = tasks.SpeedTask()\n",
    "model.cpu()\n",
    "print(speed_task_cpu.eval(lambda x: embed_bert_both(x, model, tokenizer), m))\n",
    "model.cuda();"
   ]
  }
 ],
 "metadata": {
  "kernelspec": {
   "display_name": "Python 3 (ipykernel)",
   "language": "python",
   "name": "python3"
  },
  "language_info": {
   "codemirror_mode": {
    "name": "ipython",
    "version": 3
   },
   "file_extension": ".py",
   "mimetype": "text/x-python",
   "name": "python",
   "nbconvert_exporter": "python",
   "pygments_lexer": "ipython3",
   "version": "3.9.6"
  }
 },
 "nbformat": 4,
 "nbformat_minor": 5
}
